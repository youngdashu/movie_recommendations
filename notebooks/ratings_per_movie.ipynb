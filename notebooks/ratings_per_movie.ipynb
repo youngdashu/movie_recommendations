{
 "cells": [
  {
   "cell_type": "code",
   "execution_count": null,
   "metadata": {
    "collapsed": true
   },
   "outputs": [],
   "source": []
  },
  {
   "cell_type": "code",
   "execution_count": 1,
   "outputs": [
    {
     "name": "stdout",
     "output_type": "stream",
     "text": [
      "/Users/youngdashu/Nauka/semestr8/ed/movie_recommendations/notebooks\n"
     ]
    },
    {
     "ename": "ModuleNotFoundError",
     "evalue": "No module named 'Connection'",
     "output_type": "error",
     "traceback": [
      "\u001B[0;31m---------------------------------------------------------------------------\u001B[0m",
      "\u001B[0;31mModuleNotFoundError\u001B[0m                       Traceback (most recent call last)",
      "Cell \u001B[0;32mIn[1], line 4\u001B[0m\n\u001B[1;32m      2\u001B[0m \u001B[38;5;28;01mfrom\u001B[39;00m \u001B[38;5;21;01msqlalchemy\u001B[39;00m \u001B[38;5;28;01mimport\u001B[39;00m select\n\u001B[1;32m      3\u001B[0m \u001B[38;5;28;01mfrom\u001B[39;00m \u001B[38;5;21;01msqlalchemy\u001B[39;00m\u001B[38;5;21;01m.\u001B[39;00m\u001B[38;5;21;01morm\u001B[39;00m \u001B[38;5;28;01mimport\u001B[39;00m Session\n\u001B[0;32m----> 4\u001B[0m \u001B[38;5;28;01mfrom\u001B[39;00m \u001B[38;5;21;01mdb\u001B[39;00m\u001B[38;5;21;01m.\u001B[39;00m\u001B[38;5;21;01mConnection\u001B[39;00m \u001B[38;5;28;01mimport\u001B[39;00m Connection\n\u001B[1;32m      6\u001B[0m ratings \u001B[38;5;241m=\u001B[39m \u001B[38;5;28;01mNone\u001B[39;00m\n\u001B[1;32m      8\u001B[0m connection \u001B[38;5;241m=\u001B[39m Connection()\n",
      "File \u001B[0;32m~/Nauka/semestr8/ed/movie_recommendations/db/__init__.py:4\u001B[0m\n\u001B[1;32m      1\u001B[0m \u001B[38;5;28;01mimport\u001B[39;00m \u001B[38;5;21;01mos\u001B[39;00m\n\u001B[1;32m      2\u001B[0m \u001B[38;5;28mprint\u001B[39m(os\u001B[38;5;241m.\u001B[39mgetcwd())\n\u001B[0;32m----> 4\u001B[0m \u001B[38;5;28;01mfrom\u001B[39;00m \u001B[38;5;21;01mConnection\u001B[39;00m \u001B[38;5;28;01mimport\u001B[39;00m Connection\n\u001B[1;32m      5\u001B[0m \u001B[38;5;28;01mfrom\u001B[39;00m \u001B[38;5;21;01mseed\u001B[39;00m \u001B[38;5;28;01mimport\u001B[39;00m main\n",
      "\u001B[0;31mModuleNotFoundError\u001B[0m: No module named 'Connection'"
     ]
    }
   ],
   "source": [
    "from models.Movie import Movie\n",
    "from sqlalchemy import select\n",
    "from sqlalchemy.orm import Session\n",
    "from db.Connection import Connection\n",
    "\n",
    "ratings = None\n",
    "\n",
    "connection = Connection()\n",
    "with Session(connection.engine) as session:\n",
    "    movie = session.query(Movie).first()\n",
    "    print(movie.name)\n",
    "    ratings = movie.ratings\n"
   ],
   "metadata": {
    "collapsed": false
   }
  },
  {
   "cell_type": "code",
   "execution_count": null,
   "outputs": [],
   "source": [
    "import numpy as np\n",
    "import pandas as pd\n",
    "import datetime\n",
    "\n",
    "res = map(\n",
    "        lambda r: (datetime.datetime.fromtimestamp(int(r.timestamp)).year, r.rating),\n",
    "        ratings\n",
    "    )\n",
    "\n",
    "ratings_per_movie_df = pd.DataFrame(res)\n",
    "ratings_per_movie_df.columns = ['year', 'rating']\n",
    "ratings_per_movie_df['year'] = ratings_per_movie_df['year'].astype(int)\n",
    "ratings_per_movie_df.groupby(['year']).mean().plot(title='Average rating per year for %s' % movie.name, marker='o', yticks=[i for i in np.arange(1.0, 5.5, 0.5)])\n"
   ],
   "metadata": {
    "collapsed": false
   }
  }
 ],
 "metadata": {
  "kernelspec": {
   "display_name": "Python 3",
   "language": "python",
   "name": "python3"
  },
  "language_info": {
   "codemirror_mode": {
    "name": "ipython",
    "version": 2
   },
   "file_extension": ".py",
   "mimetype": "text/x-python",
   "name": "python",
   "nbconvert_exporter": "python",
   "pygments_lexer": "ipython2",
   "version": "2.7.6"
  }
 },
 "nbformat": 4,
 "nbformat_minor": 0
}
