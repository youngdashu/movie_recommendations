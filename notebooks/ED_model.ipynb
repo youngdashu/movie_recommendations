{
 "cells": [
  {
   "cell_type": "code",
   "execution_count": 36,
   "metadata": {
    "ExecuteTime": {
     "end_time": "2023-04-01T17:32:02.911073Z",
     "start_time": "2023-04-01T17:32:02.889184Z"
    },
    "collapsed": true
   },
   "outputs": [
    {
     "ename": "ImportError",
     "evalue": "cannot import name 'split_genres' from 'shared' (/home/user/kody/edproj/movie_recommendations/shared.py)",
     "output_type": "error",
     "traceback": [
      "\u001B[0;31m---------------------------------------------------------------------------\u001B[0m",
      "\u001B[0;31mImportError\u001B[0m                               Traceback (most recent call last)",
      "Cell \u001B[0;32mIn[36], line 1\u001B[0m\n\u001B[0;32m----> 1\u001B[0m \u001B[38;5;28;01mfrom\u001B[39;00m \u001B[38;5;21;01mshared\u001B[39;00m \u001B[38;5;28;01mimport\u001B[39;00m split_genres\n",
      "\u001B[0;31mImportError\u001B[0m: cannot import name 'split_genres' from 'shared' (/home/user/kody/edproj/movie_recommendations/shared.py)"
     ]
    }
   ],
   "source": [
    "from shared import split_genres"
   ]
  },
  {
   "cell_type": "code",
   "execution_count": 22,
   "metadata": {
    "ExecuteTime": {
     "end_time": "2023-04-01T17:31:59.446973Z",
     "start_time": "2023-04-01T17:31:59.433396Z"
    }
   },
   "outputs": [
    {
     "data": {
      "text/plain": [
       "'/home/user/kody/edproj/movie_recommendations'"
      ]
     },
     "execution_count": 22,
     "metadata": {},
     "output_type": "execute_result"
    }
   ],
   "source": [
    "import os\n",
    "\n",
    "os.getcwd()"
   ]
  },
  {
   "cell_type": "code",
   "execution_count": 26,
   "metadata": {
    "ExecuteTime": {
     "end_time": "2023-04-01T17:32:07.172296Z",
     "start_time": "2023-04-01T17:32:07.140524Z"
    }
   },
   "outputs": [
    {
     "name": "stdout",
     "output_type": "stream",
     "text": [
      "<module 'shared' from '/home/user/kody/edproj/movie_recommendations/shared.py'>\n"
     ]
    }
   ],
   "source": [
    "print(shared)"
   ]
  },
  {
   "cell_type": "code",
   "execution_count": null,
   "metadata": {},
   "outputs": [],
   "source": []
  }
 ],
 "metadata": {
  "kernelspec": {
   "display_name": "Python 3 (ipykernel)",
   "language": "python",
   "name": "python3"
  },
  "language_info": {
   "codemirror_mode": {
    "name": "ipython",
    "version": 3
   },
   "file_extension": ".py",
   "mimetype": "text/x-python",
   "name": "python",
   "nbconvert_exporter": "python",
   "pygments_lexer": "ipython3",
   "version": "3.8.10"
  }
 },
 "nbformat": 4,
 "nbformat_minor": 1
}
